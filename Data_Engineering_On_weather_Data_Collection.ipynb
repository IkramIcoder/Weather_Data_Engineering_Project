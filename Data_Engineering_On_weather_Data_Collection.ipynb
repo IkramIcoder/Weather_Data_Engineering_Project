{
  "cells": [
    {
      "cell_type": "markdown",
      "metadata": {
        "application/vnd.databricks.v1+cell": {
          "cellMetadata": {},
          "inputWidgets": {},
          "nuid": "0c4106d2-ac3c-4e67-baf6-a0dc200f7b5f",
          "showTitle": false,
          "tableResultSettingsMap": {},
          "title": ""
        },
        "id": "OgdYYhvM5Vju"
      },
      "source": [
        "Mohammed Ikram - 1RVU22BSC054"
      ]
    },
    {
      "cell_type": "markdown",
      "metadata": {
        "application/vnd.databricks.v1+cell": {
          "cellMetadata": {
            "byteLimit": 2048000,
            "rowLimit": 10000
          },
          "inputWidgets": {},
          "nuid": "5f80567e-3938-4c9a-b207-0002858216b2",
          "showTitle": false,
          "tableResultSettingsMap": {},
          "title": ""
        },
        "id": "KpyVaH6N5Vjx"
      },
      "source": [
        "##Data Ingestion"
      ]
    },
    {
      "cell_type": "code",
      "execution_count": null,
      "metadata": {
        "application/vnd.databricks.v1+cell": {
          "cellMetadata": {
            "byteLimit": 2048000,
            "rowLimit": 10000
          },
          "inputWidgets": {},
          "nuid": "d407d099-666a-4dcf-9d6d-610d79296281",
          "showTitle": false,
          "tableResultSettingsMap": {},
          "title": ""
        },
        "id": "IoJgCHq95Vjy"
      },
      "outputs": [],
      "source": [
        "# Install necessary libraries\n",
        "import requests\n",
        "import datetime"
      ]
    },
    {
      "cell_type": "code",
      "execution_count": null,
      "metadata": {
        "application/vnd.databricks.v1+cell": {
          "cellMetadata": {
            "byteLimit": 2048000,
            "rowLimit": 10000
          },
          "inputWidgets": {},
          "nuid": "d833c923-d83d-40c1-a222-d156d956fe48",
          "showTitle": false,
          "tableResultSettingsMap": {},
          "title": ""
        },
        "id": "fTg187sr5Vj1"
      },
      "outputs": [],
      "source": [
        "# API setup\n",
        "API_KEY = 'c1d0f294ee92ad3c62e99d697f6f615a'\n",
        "CITY = 'West Bengal'\n",
        "URL = f\"http://api.openweathermap.org/data/2.5/weather?q={CITY}&appid={API_KEY}\""
      ]
    },
    {
      "cell_type": "markdown",
      "metadata": {
        "application/vnd.databricks.v1+cell": {
          "cellMetadata": {
            "byteLimit": 2048000,
            "rowLimit": 10000
          },
          "inputWidgets": {},
          "nuid": "40a87970-be1d-4370-b88a-89e19181e89a",
          "showTitle": false,
          "tableResultSettingsMap": {},
          "title": ""
        },
        "id": "7-w1onGw5Vj2"
      },
      "source": [
        "##Data Validation and Error Handling"
      ]
    },
    {
      "cell_type": "code",
      "execution_count": null,
      "metadata": {
        "application/vnd.databricks.v1+cell": {
          "cellMetadata": {
            "byteLimit": 2048000,
            "rowLimit": 10000
          },
          "inputWidgets": {},
          "nuid": "4a3356cb-050a-48c6-8903-f084d737ddd2",
          "showTitle": false,
          "tableResultSettingsMap": {},
          "title": ""
        },
        "id": "s273SLgY5Vj3"
      },
      "outputs": [],
      "source": [
        "# Function to fetch weather data\n",
        "def fetch_weather_data():\n",
        "    response = requests.get(URL)\n",
        "    if response.status_code == 200:\n",
        "        data = response.json()\n",
        "        return {\n",
        "            'city': data['name'],\n",
        "            'temperature': data['main']['temp'],\n",
        "            'description': data['weather'][0]['description'],\n",
        "            'timestamp': datetime.datetime.now().isoformat()\n",
        "        }\n",
        "    else:\n",
        "        print(f\"Error: {response.status_code}\")\n",
        "        return None"
      ]
    },
    {
      "cell_type": "code",
      "execution_count": null,
      "metadata": {
        "application/vnd.databricks.v1+cell": {
          "cellMetadata": {
            "byteLimit": 2048000,
            "rowLimit": 10000
          },
          "inputWidgets": {},
          "nuid": "db11d1c2-e4fb-49a9-9e23-a04fa33ed0dd",
          "showTitle": false,
          "tableResultSettingsMap": {},
          "title": ""
        },
        "id": "mIzwtLE65Vj3",
        "outputId": "0d83d770-2af3-48e5-ebf0-bbfb0449a99e"
      },
      "outputs": [
        {
          "output_type": "stream",
          "name": "stdout",
          "text": [
            "{'city': 'West Bengal', 'temperature': 301.86, 'description': 'broken clouds', 'timestamp': '2024-11-06T05:00:28.129831'}\n"
          ]
        }
      ],
      "source": [
        "# Fetch and display weather data\n",
        "weather_data = fetch_weather_data()\n",
        "print(weather_data)"
      ]
    },
    {
      "cell_type": "markdown",
      "metadata": {
        "application/vnd.databricks.v1+cell": {
          "cellMetadata": {
            "byteLimit": 2048000,
            "rowLimit": 10000
          },
          "inputWidgets": {},
          "nuid": "ef44719f-4fc5-4aa4-85a4-b3d6166efc70",
          "showTitle": false,
          "tableResultSettingsMap": {},
          "title": ""
        },
        "id": "456ySDy65Vj7"
      },
      "source": [
        "##Data Storage"
      ]
    },
    {
      "cell_type": "code",
      "execution_count": null,
      "metadata": {
        "application/vnd.databricks.v1+cell": {
          "cellMetadata": {
            "byteLimit": 2048000,
            "rowLimit": 10000
          },
          "inputWidgets": {},
          "nuid": "3f3f0762-d0c6-41c1-b87d-2f03cd012e2b",
          "showTitle": false,
          "tableResultSettingsMap": {},
          "title": ""
        },
        "id": "cXvNxYGb5Vj7"
      },
      "outputs": [],
      "source": [
        "from pyspark.sql import SparkSession\n",
        "\n",
        "# Initialize Spark session\n",
        "spark = SparkSession.builder.getOrCreate()\n",
        "\n",
        "# Convert weather data to DataFrame\n",
        "weather_df = spark.createDataFrame([weather_data])\n",
        "\n",
        "# Save the DataFrame to Delta Lake\n",
        "weather_df.write.format(\"delta\").mode(\"append\").save(\"/mntt/delta/weather_data\")"
      ]
    },
    {
      "cell_type": "markdown",
      "metadata": {
        "application/vnd.databricks.v1+cell": {
          "cellMetadata": {
            "byteLimit": 2048000,
            "rowLimit": 10000
          },
          "inputWidgets": {},
          "nuid": "b265f627-0c8f-4c4b-9981-e2e586be361a",
          "showTitle": false,
          "tableResultSettingsMap": {},
          "title": ""
        },
        "id": "ckVQKE535Vj8"
      },
      "source": [
        "##Data Preprocessing and Cleaning"
      ]
    },
    {
      "cell_type": "code",
      "execution_count": null,
      "metadata": {
        "application/vnd.databricks.v1+cell": {
          "cellMetadata": {
            "byteLimit": 2048000,
            "rowLimit": 10000
          },
          "inputWidgets": {},
          "nuid": "07222bca-91c8-4661-90a2-f2c8af2c2893",
          "showTitle": false,
          "tableResultSettingsMap": {},
          "title": ""
        },
        "id": "N5nLYWWu5Vj8",
        "outputId": "c13291b4-7d16-4ee3-8765-f8f2dd8ca749"
      },
      "outputs": [
        {
          "output_type": "stream",
          "name": "stdout",
          "text": [
            "+-----------+----------------+-----------+--------------------+\n|       city|     description|temperature|           timestamp|\n+-----------+----------------+-----------+--------------------+\n|  Bengaluru|scattered clouds|     295.88|2024-11-01T18:16:...|\n| Tamil Nadu| overcast clouds|     301.85|2024-11-03T09:04:...|\n|West Bengal|   broken clouds|     301.86|2024-11-06T05:00:...|\n|    Kitturu| overcast clouds|     297.32|2024-11-01T18:15:...|\n|West Bengal|       clear sky|     304.29|2024-11-03T10:07:...|\n|West Bengal|       clear sky|     304.56|2024-11-03T09:17:...|\n|West Bengal|       clear sky|     304.29|2024-11-03T10:17:...|\n|West Bengal|       clear sky|     304.56|2024-11-03T09:16:...|\n|      Kochi| overcast clouds|     299.14|2024-11-01T18:19:...|\n|West Bengal|       clear sky|     304.56|2024-11-03T09:13:...|\n|West Bengal|       clear sky|     304.56|2024-11-03T09:22:...|\n|West Bengal|       clear sky|     304.56|2024-11-03T09:15:...|\n|West Bengal|       clear sky|     304.29|2024-11-03T10:23:...|\n|     Kerala|   broken clouds|     303.97|2024-11-03T09:07:...|\n|  Jharkhand|       clear sky|     302.15|2024-11-03T08:24:...|\n|  Rajasthan|       clear sky|      306.6|2024-11-03T08:31:...|\n|       Pune|   broken clouds|     297.68|2024-11-01T18:20:...|\n|    Haryana|       clear sky|      306.4|2024-11-03T09:02:...|\n|    Gujarat|       clear sky|     305.61|2024-11-03T06:22:...|\n|     Rajkot|       clear sky|     306.66|2024-11-03T06:35:...|\n+-----------+----------------+-----------+--------------------+\nonly showing top 20 rows\n\n"
          ]
        }
      ],
      "source": [
        "weather_df = spark.read.format(\"delta\").load(\"/mntt/delta/weather_data\")\n",
        "\n",
        "# Clean data: drop null values\n",
        "cleaned_df = weather_df.dropna()\n",
        "\n",
        "# Show cleaned data\n",
        "cleaned_df.show()"
      ]
    },
    {
      "cell_type": "markdown",
      "metadata": {
        "application/vnd.databricks.v1+cell": {
          "cellMetadata": {
            "byteLimit": 2048000,
            "rowLimit": 10000
          },
          "inputWidgets": {},
          "nuid": "f8a6457d-0e05-4d92-91fa-af1921a6604c",
          "showTitle": false,
          "tableResultSettingsMap": {},
          "title": ""
        },
        "id": "MtZLw-HP5Vj-"
      },
      "source": [
        "##Data Analysis and Aggregation in Scala"
      ]
    },
    {
      "cell_type": "code",
      "execution_count": null,
      "metadata": {
        "application/vnd.databricks.v1+cell": {
          "cellMetadata": {
            "byteLimit": 2048000,
            "rowLimit": 10000
          },
          "inputWidgets": {},
          "nuid": "273e1ca8-1008-4662-b793-f51eb79c944a",
          "showTitle": false,
          "tableResultSettingsMap": {},
          "title": ""
        },
        "id": "J7XK6FCu5Vj-",
        "outputId": "76f06929-966d-4f76-fa90-291f77722518"
      },
      "outputs": [
        {
          "output_type": "display_data",
          "data": {
            "text/html": [
              "<style scoped>\n",
              "  .ansiout {\n",
              "    display: block;\n",
              "    unicode-bidi: embed;\n",
              "    white-space: pre-wrap;\n",
              "    word-wrap: break-word;\n",
              "    word-break: break-all;\n",
              "    font-family: \"Menlo\", \"Monaco\", \"Consolas\", \"Ubuntu Mono\", \"Source Code Pro\", monospace;\n",
              "    font-size: 13px;\n",
              "    color: #555;\n",
              "    margin-left: 4px;\n",
              "    line-height: 19px;\n",
              "  }\n",
              "</style>\n",
              "<div class=\"ansiout\">+-----------+----------------+-----------+--------------------+\n",
              "       city|     description|temperature|           timestamp|\n",
              "+-----------+----------------+-----------+--------------------+\n",
              "  Bengaluru|scattered clouds|     295.88|2024-11-01T18:16:...|\n",
              " Tamil Nadu| overcast clouds|     301.85|2024-11-03T09:04:...|\n",
              "West Bengal|       clear sky|     304.56|2024-11-03T09:13:...|\n",
              "      Kochi| overcast clouds|     299.14|2024-11-01T18:19:...|\n",
              "     Kerala|   broken clouds|     303.97|2024-11-03T09:07:...|\n",
              "  Jharkhand|       clear sky|     302.15|2024-11-03T08:24:...|\n",
              "       Pune|   broken clouds|     297.68|2024-11-01T18:20:...|\n",
              "     Kanpur|       clear sky|     297.05|2024-11-01T18:21:...|\n",
              "     Rajkot|       clear sky|     306.66|2024-11-03T06:35:...|\n",
              "     Punjab|       clear sky|     307.94|2024-11-03T07:34:...|\n",
              " Trivandrum|            mist|     298.14|2024-11-02T16:11:...|\n",
              " Trivandrum|            mist|     298.14|2024-11-02T17:17:...|\n",
              " Trivandrum|            mist|     300.14|2024-11-01T18:24:...|\n",
              " Trivandrum|            mist|     298.14|2024-11-02T17:16:...|\n",
              "  Hyderabad|            haze|     297.88|2024-11-01T18:18:...|\n",
              "       Agra|       clear sky|     299.01|2024-11-01T18:20:...|\n",
              "    Chennai|            mist|     301.51|2024-11-01T18:17:...|\n",
              "    Lucknow|            mist|     294.14|2024-11-01T18:17:...|\n",
              "     Jaipur|            haze|     297.77|2024-11-01T18:18:...|\n",
              "     Mumbai|            haze|     303.14|2024-11-01T18:17:...|\n",
              "+-----------+----------------+-----------+--------------------+\n",
              "only showing top 20 rows\n",
              "\n",
              "+-----------+---------------+\n",
              "       city|avg_temperature|\n",
              "+-----------+---------------+\n",
              " Tamil Nadu|         301.85|\n",
              "  Bengaluru|         295.88|\n",
              "    Kitturu|         297.32|\n",
              "West Bengal|         304.17|\n",
              "      Kochi|         299.14|\n",
              "     Kerala|         303.97|\n",
              "  Jharkhand|         302.15|\n",
              "    Haryana|          306.4|\n",
              "    Gujarat|         305.61|\n",
              "       Pune|         297.68|\n",
              "  Rajasthan|          306.6|\n",
              "     Rajkot|         306.66|\n",
              "     Punjab|         307.94|\n",
              "  Ahmedabad|         299.17|\n",
              " Trivandrum|         298.64|\n",
              "     Kanpur|         297.05|\n",
              "       Agra|         299.01|\n",
              "      Assam|          301.5|\n",
              "  Hyderabad|         297.88|\n",
              "    Chennai|         301.51|\n",
              "+-----------+---------------+\n",
              "only showing top 20 rows\n",
              "\n",
              "import org.apache.spark.sql.SparkSession\n",
              "import org.apache.spark.sql.functions._\n",
              "weatherDataPath: String = /mntt/delta/weather_data\n",
              "rawData: org.apache.spark.sql.DataFrame = [city: string, description: string ... 2 more fields]\n",
              "cleanedData: org.apache.spark.sql.DataFrame = [city: string, temperature: double ... 2 more fields]\n",
              "averageTemp: org.apache.spark.sql.DataFrame = [city: string, avg_temperature: double]\n",
              "</div>"
            ]
          },
          "metadata": {
            "application/vnd.databricks.v1+output": {
              "addedWidgets": {},
              "arguments": {},
              "data": "<div class=\"ansiout\">+-----------+----------------+-----------+--------------------+\n|       city|     description|temperature|           timestamp|\n+-----------+----------------+-----------+--------------------+\n|  Bengaluru|scattered clouds|     295.88|2024-11-01T18:16:...|\n| Tamil Nadu| overcast clouds|     301.85|2024-11-03T09:04:...|\n|West Bengal|       clear sky|     304.56|2024-11-03T09:13:...|\n|      Kochi| overcast clouds|     299.14|2024-11-01T18:19:...|\n|     Kerala|   broken clouds|     303.97|2024-11-03T09:07:...|\n|  Jharkhand|       clear sky|     302.15|2024-11-03T08:24:...|\n|       Pune|   broken clouds|     297.68|2024-11-01T18:20:...|\n|     Kanpur|       clear sky|     297.05|2024-11-01T18:21:...|\n|     Rajkot|       clear sky|     306.66|2024-11-03T06:35:...|\n|     Punjab|       clear sky|     307.94|2024-11-03T07:34:...|\n| Trivandrum|            mist|     298.14|2024-11-02T16:11:...|\n| Trivandrum|            mist|     298.14|2024-11-02T17:17:...|\n| Trivandrum|            mist|     300.14|2024-11-01T18:24:...|\n| Trivandrum|            mist|     298.14|2024-11-02T17:16:...|\n|  Hyderabad|            haze|     297.88|2024-11-01T18:18:...|\n|       Agra|       clear sky|     299.01|2024-11-01T18:20:...|\n|    Chennai|            mist|     301.51|2024-11-01T18:17:...|\n|    Lucknow|            mist|     294.14|2024-11-01T18:17:...|\n|     Jaipur|            haze|     297.77|2024-11-01T18:18:...|\n|     Mumbai|            haze|     303.14|2024-11-01T18:17:...|\n+-----------+----------------+-----------+--------------------+\nonly showing top 20 rows\n\n+-----------+---------------+\n|       city|avg_temperature|\n+-----------+---------------+\n| Tamil Nadu|         301.85|\n|  Bengaluru|         295.88|\n|    Kitturu|         297.32|\n|West Bengal|         304.17|\n|      Kochi|         299.14|\n|     Kerala|         303.97|\n|  Jharkhand|         302.15|\n|    Haryana|          306.4|\n|    Gujarat|         305.61|\n|       Pune|         297.68|\n|  Rajasthan|          306.6|\n|     Rajkot|         306.66|\n|     Punjab|         307.94|\n|  Ahmedabad|         299.17|\n| Trivandrum|         298.64|\n|     Kanpur|         297.05|\n|       Agra|         299.01|\n|      Assam|          301.5|\n|  Hyderabad|         297.88|\n|    Chennai|         301.51|\n+-----------+---------------+\nonly showing top 20 rows\n\nimport org.apache.spark.sql.SparkSession\nimport org.apache.spark.sql.functions._\nweatherDataPath: String = /mntt/delta/weather_data\nrawData: org.apache.spark.sql.DataFrame = [city: string, description: string ... 2 more fields]\ncleanedData: org.apache.spark.sql.DataFrame = [city: string, temperature: double ... 2 more fields]\naverageTemp: org.apache.spark.sql.DataFrame = [city: string, avg_temperature: double]\n</div>",
              "datasetInfos": [
                {
                  "name": "rawData",
                  "schema": {
                    "fields": [
                      {
                        "metadata": {},
                        "name": "city",
                        "nullable": true,
                        "type": "string"
                      },
                      {
                        "metadata": {},
                        "name": "description",
                        "nullable": true,
                        "type": "string"
                      },
                      {
                        "metadata": {},
                        "name": "temperature",
                        "nullable": true,
                        "type": "double"
                      },
                      {
                        "metadata": {},
                        "name": "timestamp",
                        "nullable": true,
                        "type": "string"
                      }
                    ],
                    "type": "struct"
                  },
                  "tableIdentifier": "dbfs:/mntt/delta/weather_data",
                  "typeStr": "org.apache.spark.sql.DataFrame"
                },
                {
                  "name": "cleanedData",
                  "schema": {
                    "fields": [
                      {
                        "metadata": {},
                        "name": "city",
                        "nullable": true,
                        "type": "string"
                      },
                      {
                        "metadata": {},
                        "name": "temperature",
                        "nullable": true,
                        "type": "double"
                      },
                      {
                        "metadata": {},
                        "name": "description",
                        "nullable": true,
                        "type": "string"
                      },
                      {
                        "metadata": {},
                        "name": "timestamp",
                        "nullable": true,
                        "type": "timestamp"
                      }
                    ],
                    "type": "struct"
                  },
                  "tableIdentifier": null,
                  "typeStr": "org.apache.spark.sql.DataFrame"
                },
                {
                  "name": "averageTemp",
                  "schema": {
                    "fields": [
                      {
                        "metadata": {},
                        "name": "city",
                        "nullable": true,
                        "type": "string"
                      },
                      {
                        "metadata": {},
                        "name": "avg_temperature",
                        "nullable": true,
                        "type": "double"
                      }
                    ],
                    "type": "struct"
                  },
                  "tableIdentifier": null,
                  "typeStr": "org.apache.spark.sql.DataFrame"
                }
              ],
              "metadata": {
                "isDbfsCommandResult": false
              },
              "removedWidgets": [],
              "type": "html"
            }
          }
        }
      ],
      "source": [
        "%scala\n",
        "import org.apache.spark.sql.SparkSession\n",
        "import org.apache.spark.sql.functions._\n",
        "val weatherDataPath = \"/mntt/delta/weather_data\"\n",
        "val rawData = spark.read.format(\"delta\").load(weatherDataPath)\n",
        "rawData.show()\n",
        "val cleanedData = rawData\n",
        "  .select(\n",
        "    col(\"city\"),\n",
        "    col(\"temperature\").cast(\"double\"),\n",
        "    col(\"description\"),\n",
        "    col(\"timestamp\").cast(\"timestamp\")\n",
        "  )\n",
        "  .na.drop()  // Drop rows with any missing values\n",
        "\n",
        "// Calculate the average temperature per city\n",
        "val averageTemp = cleanedData.groupBy(\"city\").agg(avg(\"temperature\").alias(\"avg_temperature\"))\n",
        "\n",
        "// Display the result\n",
        "averageTemp.show()\n"
      ]
    },
    {
      "cell_type": "markdown",
      "metadata": {
        "application/vnd.databricks.v1+cell": {
          "cellMetadata": {
            "byteLimit": 2048000,
            "rowLimit": 10000
          },
          "inputWidgets": {},
          "nuid": "9fef5f70-8597-4f2b-a056-04dc6f821dfa",
          "showTitle": false,
          "tableResultSettingsMap": {},
          "title": ""
        },
        "id": "cUKR5VDE5Vj_"
      },
      "source": [
        "##Data Visualization"
      ]
    },
    {
      "cell_type": "code",
      "execution_count": null,
      "metadata": {
        "application/vnd.databricks.v1+cell": {
          "cellMetadata": {
            "byteLimit": 2048000,
            "rowLimit": 10000
          },
          "inputWidgets": {},
          "nuid": "f32e00e6-5db7-4da0-a621-ea542164dfdd",
          "showTitle": false,
          "tableResultSettingsMap": {},
          "title": ""
        },
        "id": "Sw-QcCRR5VkA",
        "outputId": "3d4f46d3-8dfc-4a0c-9e0a-c9d0eb47177f"
      },
      "outputs": [
        {
          "output_type": "display_data",
          "data": {
            "application/vnd.databricks.v1+bamboolib_hint": "{\"pd.DataFrames\": [], \"version\": \"0.0.1\"}",
            "text/plain": []
          },
          "metadata": {}
        },
        {
          "output_type": "display_data",
          "data": {
            "image/png": "[encoded data removed]"
          },
          "metadata": {
            "application/vnd.databricks.v1+output": {
              "addedWidgets": {},
              "arguments": {},
              "data": "data:image/png;base64,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\n",
              "datasetInfos": [],
              "metadata": {},
              "removedWidgets": [],
              "type": "image"
            }
          }
        }
      ],
      "source": [
        "import pandas as pd\n",
        "import matplotlib.pyplot as plt\n",
        "\n",
        "df = spark.read.format(\"delta\").load(\"/mntt/delta/weather_data\").toPandas()\n",
        "\n",
        "# Convert temperature from Kelvin to Celsius\n",
        "df['temperature_celsius'] = df['temperature'] - 273.15\n",
        "\n",
        "# Plot temperature trends over time\n",
        "plt.figure(figsize=(12, 6))\n",
        "plt.plot(pd.to_datetime(df['timestamp']), df['temperature_celsius'], marker='o', linestyle='-')\n",
        "plt.title('Temperature Trends Over Time')\n",
        "plt.xlabel('Time')\n",
        "plt.ylabel('Temperature (°C)')\n",
        "plt.grid(True)\n",
        "plt.show()\n"
      ]
    },
    {
      "cell_type": "markdown",
      "metadata": {
        "application/vnd.databricks.v1+cell": {
          "cellMetadata": {
            "byteLimit": 2048000,
            "rowLimit": 10000
          },
          "inputWidgets": {},
          "nuid": "1251d987-f950-4be2-a613-6abc3270674a",
          "showTitle": false,
          "tableResultSettingsMap": {},
          "title": ""
        },
        "id": "1Edf45kW5VkB"
      },
      "source": [
        "##Building Report Using Dashboard"
      ]
    },
    {
      "cell_type": "code",
      "execution_count": null,
      "metadata": {
        "application/vnd.databricks.v1+cell": {
          "cellMetadata": {
            "byteLimit": 2048000,
            "rowLimit": 10000
          },
          "inputWidgets": {},
          "nuid": "4f3e9d5a-c819-4f62-acf5-0711e7c8d4d6",
          "showTitle": false,
          "tableResultSettingsMap": {},
          "title": ""
        },
        "id": "WCXjksar5VkB",
        "outputId": "9fb77ab5-e516-47e8-8669-7bf2d7998b8a"
      },
      "outputs": [
        {
          "output_type": "display_data",
          "data": {
            "text/html": [
              "<style scoped>\n",
              "  .ansiout {\n",
              "    display: block;\n",
              "    unicode-bidi: embed;\n",
              "    white-space: pre-wrap;\n",
              "    word-wrap: break-word;\n",
              "    word-break: break-all;\n",
              "    font-family: \"Menlo\", \"Monaco\", \"Consolas\", \"Ubuntu Mono\", \"Source Code Pro\", monospace;\n",
              "    font-size: 13px;\n",
              "    color: #555;\n",
              "    margin-left: 4px;\n",
              "    line-height: 19px;\n",
              "  }\n",
              "</style>\n",
              "<div class=\"ansiout\"></div>"
            ]
          },
          "metadata": {
            "application/vnd.databricks.v1+output": {
              "addedWidgets": {},
              "arguments": {},
              "data": "<div class=\"ansiout\"></div>",
              "datasetInfos": [],
              "metadata": {
                "isDbfsCommandResult": false
              },
              "removedWidgets": [],
              "type": "html"
            }
          }
        }
      ],
      "source": [
        "%scala\n",
        "// Create a temporary view from your cleaned DataFrame\n",
        "cleanedData.createOrReplaceTempView(\"weather_data\")"
      ]
    },
    {
      "cell_type": "code",
      "execution_count": null,
      "metadata": {
        "application/vnd.databricks.v1+cell": {
          "cellMetadata": {
            "byteLimit": 2048000,
            "rowLimit": 10000
          },
          "inputWidgets": {},
          "nuid": "14c37522-bbb5-46f5-a51a-04f4ec3c5b32",
          "showTitle": false,
          "tableResultSettingsMap": {},
          "title": ""
        },
        "id": "vdR9L4pm5VkC",
        "outputId": "cdb91f84-5bca-4ce0-cf26-1ace93a96dc1"
      },
      "outputs": [
        {
          "output_type": "stream",
          "name": "stdout",
          "text": [
            "+-----------+----------------+-----------+--------------------+\n|       city|     description|temperature|           timestamp|\n+-----------+----------------+-----------+--------------------+\n|  Bengaluru|scattered clouds|     295.88|2024-11-01T18:16:...|\n| Tamil Nadu| overcast clouds|     301.85|2024-11-03T09:04:...|\n|West Bengal|   broken clouds|     301.86|2024-11-06T05:00:...|\n|    Kitturu| overcast clouds|     297.32|2024-11-01T18:15:...|\n|West Bengal|       clear sky|     304.29|2024-11-03T10:07:...|\n|West Bengal|       clear sky|     304.56|2024-11-03T09:17:...|\n|West Bengal|       clear sky|     304.29|2024-11-03T10:17:...|\n|West Bengal|       clear sky|     304.56|2024-11-03T09:16:...|\n|      Kochi| overcast clouds|     299.14|2024-11-01T18:19:...|\n|West Bengal|       clear sky|     304.56|2024-11-03T09:13:...|\n|West Bengal|       clear sky|     304.56|2024-11-03T09:22:...|\n|West Bengal|       clear sky|     304.56|2024-11-03T09:15:...|\n|West Bengal|       clear sky|     304.29|2024-11-03T10:23:...|\n|     Kerala|   broken clouds|     303.97|2024-11-03T09:07:...|\n|  Jharkhand|       clear sky|     302.15|2024-11-03T08:24:...|\n|  Rajasthan|       clear sky|      306.6|2024-11-03T08:31:...|\n|       Pune|   broken clouds|     297.68|2024-11-01T18:20:...|\n|    Haryana|       clear sky|      306.4|2024-11-03T09:02:...|\n|    Gujarat|       clear sky|     305.61|2024-11-03T06:22:...|\n|     Rajkot|       clear sky|     306.66|2024-11-03T06:35:...|\n+-----------+----------------+-----------+--------------------+\nonly showing top 20 rows\n\n"
          ]
        }
      ],
      "source": [
        "cleaned_df.show()"
      ]
    },
    {
      "cell_type": "code",
      "execution_count": null,
      "metadata": {
        "application/vnd.databricks.v1+cell": {
          "cellMetadata": {
            "byteLimit": 2048000,
            "implicitDf": true,
            "rowLimit": 10000
          },
          "inputWidgets": {},
          "nuid": "781cf299-6bd5-4424-9b8c-d23836332b12",
          "showTitle": false,
          "tableResultSettingsMap": {},
          "title": ""
        },
        "id": "2me3-BHH5VkC",
        "outputId": "d171e2d1-d423-4356-9982-05806701ea25"
      },
      "outputs": [
        {
          "output_type": "display_data",
          "data": {
            "text/html": [
              "<style scoped>\n",
              "  .table-result-container {\n",
              "    max-height: 300px;\n",
              "    overflow: auto;\n",
              "  }\n",
              "  table, th, td {\n",
              "    border: 1px solid black;\n",
              "    border-collapse: collapse;\n",
              "  }\n",
              "  th, td {\n",
              "    padding: 5px;\n",
              "  }\n",
              "  th {\n",
              "    text-align: left;\n",
              "  }\n",
              "</style><div class='table-result-container'><table class='table-result'><thead style='background-color: white'><tr><th>title</th></tr></thead><tbody><tr><td>Weather Collection Dashboard</td></tr></tbody></table></div>"
            ]
          },
          "metadata": {
            "application/vnd.databricks.v1+output": {
              "addedWidgets": {},
              "aggData": [],
              "aggError": "",
              "aggOverflow": false,
              "aggSchema": [],
              "aggSeriesLimitReached": false,
              "aggType": "",
              "arguments": {},
              "columnCustomDisplayInfos": {},
              "data": [
                [
                  "Weather Collection Dashboard"
                ]
              ],
              "datasetInfos": [],
              "dbfsResultPath": null,
              "isJsonSchema": true,
              "metadata": {},
              "overflow": false,
              "plotOptions": {
                "customPlotOptions": {},
                "displayType": "table",
                "pivotAggregation": null,
                "pivotColumns": null,
                "xColumns": null,
                "yColumns": null
              },
              "removedWidgets": [],
              "schema": [
                {
                  "metadata": "{}",
                  "name": "title",
                  "type": "\"string\""
                }
              ],
              "type": "table"
            }
          }
        },
        {
          "output_type": "display_data",
          "data": {
            "text/plain": [
              "Databricks visualization. Run in Databricks to view."
            ]
          },
          "metadata": {
            "application/vnd.databricks.v1.subcommand+json": {
              "baseErrorDetails": null,
              "bindings": {},
              "collapsed": false,
              "command": "%sql\nSELECT 'Weather Collection Dashboard' AS title;",
              "commandTitle": "Title",
              "commandType": "auto",
              "commandVersion": 0,
              "commentThread": [],
              "commentsVisible": false,
              "contentSha256Hex": null,
              "customPlotOptions": {
                "redashChart": [
                  {
                    "key": "type",
                    "value": "COUNTER"
                  },
                  {
                    "key": "options",
                    "value": {
                      "counterColName": "title",
                      "counterLabel": "",
                      "rowNumber": 1,
                      "stringDecChar": ".",
                      "stringDecimal": 0,
                      "stringThouSep": ",",
                      "targetRowNumber": 1,
                      "tooltipFormat": "0,0.000"
                    }
                  }
                ]
              },
              "datasetPreviewNameToCmdIdMap": {},
              "diffDeletes": [],
              "diffInserts": [],
              "displayType": "redashChart",
              "error": null,
              "errorDetails": null,
              "errorSummary": null,
              "errorTraceType": null,
              "finishTime": 0,
              "globalVars": {},
              "guid": "",
              "height": "auto",
              "hideCommandCode": false,
              "hideCommandResult": false,
              "iPythonMetadata": null,
              "inputWidgets": {},
              "isLockedInExamMode": false,
              "latestUser": "a user",
              "latestUserId": null,
              "listResultMetadata": null,
              "metadata": {
                "byteLimit": 2048000,
                "implicitDf": true,
                "rowLimit": 10000
              },
              "nuid": "5ec80625-9b1d-49d4-87f5-27e24e577ae4",
              "origId": 0,
              "parentHierarchy": [],
              "pivotAggregation": null,
              "pivotColumns": null,
              "position": 9.0625,
              "resultDbfsErrorMessage": null,
              "resultDbfsStatus": "INLINED_IN_TREE",
              "results": null,
              "showCommandTitle": false,
              "startTime": 0,
              "state": "finished",
              "streamStates": {},
              "subcommandOptions": {},
              "submitTime": 0,
              "subtype": "tableResultSubCmd.visualization",
              "tableResultIndex": 0,
              "tableResultSettingsMap": {},
              "useConsistentColors": false,
              "version": "CommandV1",
              "width": "auto",
              "workflows": [],
              "xColumns": null,
              "yColumns": null
            }
          }
        }
      ],
      "source": [
        "%sql\n",
        "SELECT 'Weather Collection Dashboard' AS title;"
      ]
    },
    {
      "cell_type": "code",
      "execution_count": null,
      "metadata": {
        "application/vnd.databricks.v1+cell": {
          "cellMetadata": {
            "byteLimit": 2048000,
            "implicitDf": true,
            "rowLimit": 10000
          },
          "inputWidgets": {},
          "nuid": "5a626f7f-0228-45b8-a0f5-1bbba20cd64e",
          "showTitle": false,
          "tableResultSettingsMap": {},
          "title": ""
        },
        "id": "jstTA6015VkD",
        "outputId": "5a2605ce-0786-4142-9342-1ccb7b09ce18"
      },
      "outputs": [
        {
          "output_type": "display_data",
          "data": {
            "text/html": [
              "<style scoped>\n",
              "  .table-result-container {\n",
              "    max-height: 300px;\n",
              "    overflow: auto;\n",
              "  }\n",
              "  table, th, td {\n",
              "    border: 1px solid black;\n",
              "    border-collapse: collapse;\n",
              "  }\n",
              "  th, td {\n",
              "    padding: 5px;\n",
              "  }\n",
              "  th {\n",
              "    text-align: left;\n",
              "  }\n",
              "</style><div class='table-result-container'><table class='table-result'><thead style='background-color: white'><tr><th>total_records</th></tr></thead><tbody><tr><td>38</td></tr></tbody></table></div>"
            ]
          },
          "metadata": {
            "application/vnd.databricks.v1+output": {
              "addedWidgets": {},
              "aggData": [],
              "aggError": "",
              "aggOverflow": false,
              "aggSchema": [],
              "aggSeriesLimitReached": false,
              "aggType": "",
              "arguments": {},
              "columnCustomDisplayInfos": {},
              "data": [
                [
                  38
                ]
              ],
              "datasetInfos": [],
              "dbfsResultPath": null,
              "isJsonSchema": true,
              "metadata": {},
              "overflow": false,
              "plotOptions": {
                "customPlotOptions": {},
                "displayType": "table",
                "pivotAggregation": null,
                "pivotColumns": null,
                "xColumns": null,
                "yColumns": null
              },
              "removedWidgets": [],
              "schema": [
                {
                  "metadata": "{}",
                  "name": "total_records",
                  "type": "\"long\""
                }
              ],
              "type": "table"
            }
          }
        },
        {
          "output_type": "display_data",
          "data": {
            "text/plain": [
              "Databricks visualization. Run in Databricks to view."
            ]
          },
          "metadata": {
            "application/vnd.databricks.v1.subcommand+json": {
              "baseErrorDetails": null,
              "bindings": {},
              "collapsed": false,
              "command": "%sql\nSELECT COUNT(*) AS total_records FROM weather_data;",
              "commandTitle": "Total_Records",
              "commandType": "auto",
              "commandVersion": 0,
              "commentThread": [],
              "commentsVisible": false,
              "contentSha256Hex": null,
              "customPlotOptions": {
                "redashChart": [
                  {
                    "key": "type",
                    "value": "COUNTER"
                  },
                  {
                    "key": "options",
                    "value": {
                      "countRow": false,
                      "counterColName": "total_records",
                      "counterLabel": "Total_Records",
                      "formatTargetValue": false,
                      "rowNumber": 1,
                      "stringDecChar": ".",
                      "stringDecimal": 0,
                      "stringThouSep": ",",
                      "targetRowNumber": 1,
                      "tooltipFormat": "0,0.000"
                    }
                  }
                ]
              },
              "datasetPreviewNameToCmdIdMap": {},
              "diffDeletes": [],
              "diffInserts": [],
              "displayType": "redashChart",
              "error": null,
              "errorDetails": null,
              "errorSummary": null,
              "errorTraceType": null,
              "finishTime": 0,
              "globalVars": {},
              "guid": "",
              "height": "auto",
              "hideCommandCode": false,
              "hideCommandResult": false,
              "iPythonMetadata": null,
              "inputWidgets": {},
              "isLockedInExamMode": false,
              "latestUser": "a user",
              "latestUserId": null,
              "listResultMetadata": null,
              "metadata": {
                "byteLimit": 2048000,
                "implicitDf": true,
                "rowLimit": 10000
              },
              "nuid": "667d3568-09e9-415b-afd7-7b04c0b1985b",
              "origId": 0,
              "parentHierarchy": [],
              "pivotAggregation": null,
              "pivotColumns": null,
              "position": 9.125,
              "resultDbfsErrorMessage": null,
              "resultDbfsStatus": "INLINED_IN_TREE",
              "results": null,
              "showCommandTitle": false,
              "startTime": 0,
              "state": "finished",
              "streamStates": {},
              "subcommandOptions": {},
              "submitTime": 0,
              "subtype": "tableResultSubCmd.visualization",
              "tableResultIndex": 0,
              "tableResultSettingsMap": {},
              "useConsistentColors": false,
              "version": "CommandV1",
              "width": "auto",
              "workflows": [],
              "xColumns": null,
              "yColumns": null
            }
          }
        }
      ],
      "source": [
        "%sql\n",
        "SELECT COUNT(*) AS total_records FROM weather_data;"
      ]
    },
    {
      "cell_type": "code",
      "execution_count": null,
      "metadata": {
        "application/vnd.databricks.v1+cell": {
          "cellMetadata": {
            "byteLimit": 2048000,
            "implicitDf": true,
            "rowLimit": 10000
          },
          "inputWidgets": {},
          "nuid": "120e1e34-c08f-41d3-b1a6-90acc507b4a0",
          "showTitle": false,
          "tableResultSettingsMap": {},
          "title": ""
        },
        "id": "spkbKM4c5VkE",
        "outputId": "34ba73ae-d849-43ac-ff26-48e5b0747501"
      },
      "outputs": [
        {
          "output_type": "display_data",
          "data": {
            "text/html": [
              "<style scoped>\n",
              "  .table-result-container {\n",
              "    max-height: 300px;\n",
              "    overflow: auto;\n",
              "  }\n",
              "  table, th, td {\n",
              "    border: 1px solid black;\n",
              "    border-collapse: collapse;\n",
              "  }\n",
              "  th, td {\n",
              "    padding: 5px;\n",
              "  }\n",
              "  th {\n",
              "    text-align: left;\n",
              "  }\n",
              "</style><div class='table-result-container'><table class='table-result'><thead style='background-color: white'><tr><th>city</th></tr></thead><tbody><tr><td>Bengaluru</td></tr><tr><td>Tamil Nadu</td></tr><tr><td>West Bengal</td></tr><tr><td>Kitturu</td></tr><tr><td>West Bengal</td></tr><tr><td>West Bengal</td></tr><tr><td>West Bengal</td></tr><tr><td>West Bengal</td></tr><tr><td>Kochi</td></tr><tr><td>West Bengal</td></tr><tr><td>West Bengal</td></tr><tr><td>West Bengal</td></tr><tr><td>West Bengal</td></tr><tr><td>Kerala</td></tr><tr><td>Jharkhand</td></tr><tr><td>Rajasthan</td></tr><tr><td>Pune</td></tr><tr><td>Haryana</td></tr><tr><td>Gujarat</td></tr><tr><td>Rajkot</td></tr><tr><td>Punjab</td></tr><tr><td>Kanpur</td></tr><tr><td>Trivandrum</td></tr><tr><td>Ahmedabad</td></tr><tr><td>Trivandrum</td></tr><tr><td>Trivandrum</td></tr><tr><td>Assam</td></tr><tr><td>Trivandrum</td></tr><tr><td>Hyderabad</td></tr><tr><td>Agra</td></tr><tr><td>Nagpur</td></tr><tr><td>Chennai</td></tr><tr><td>Kolkata</td></tr><tr><td>Lucknow</td></tr><tr><td>Jaipur</td></tr><tr><td>Mumbai</td></tr><tr><td>Surat</td></tr><tr><td>Patna</td></tr></tbody></table></div>"
            ]
          },
          "metadata": {
            "application/vnd.databricks.v1+output": {
              "addedWidgets": {},
              "aggData": [],
              "aggError": "",
              "aggOverflow": false,
              "aggSchema": [],
              "aggSeriesLimitReached": false,
              "aggType": "",
              "arguments": {},
              "columnCustomDisplayInfos": {},
              "data": [
                [
                  "Bengaluru"
                ],
                [
                  "Tamil Nadu"
                ],
                [
                  "West Bengal"
                ],
                [
                  "Kitturu"
                ],
                [
                  "West Bengal"
                ],
                [
                  "West Bengal"
                ],
                [
                  "West Bengal"
                ],
                [
                  "West Bengal"
                ],
                [
                  "Kochi"
                ],
                [
                  "West Bengal"
                ],
                [
                  "West Bengal"
                ],
                [
                  "West Bengal"
                ],
                [
                  "West Bengal"
                ],
                [
                  "Kerala"
                ],
                [
                  "Jharkhand"
                ],
                [
                  "Rajasthan"
                ],
                [
                  "Pune"
                ],
                [
                  "Haryana"
                ],
                [
                  "Gujarat"
                ],
                [
                  "Rajkot"
                ],
                [
                  "Punjab"
                ],
                [
                  "Kanpur"
                ],
                [
                  "Trivandrum"
                ],
                [
                  "Ahmedabad"
                ],
                [
                  "Trivandrum"
                ],
                [
                  "Trivandrum"
                ],
                [
                  "Assam"
                ],
                [
                  "Trivandrum"
                ],
                [
                  "Hyderabad"
                ],
                [
                  "Agra"
                ],
                [
                  "Nagpur"
                ],
                [
                  "Chennai"
                ],
                [
                  "Kolkata"
                ],
                [
                  "Lucknow"
                ],
                [
                  "Jaipur"
                ],
                [
                  "Mumbai"
                ],
                [
                  "Surat"
                ],
                [
                  "Patna"
                ]
              ],
              "datasetInfos": [],
              "dbfsResultPath": null,
              "isJsonSchema": true,
              "metadata": {},
              "overflow": false,
              "plotOptions": {
                "customPlotOptions": {},
                "displayType": "table",
                "pivotAggregation": null,
                "pivotColumns": null,
                "xColumns": null,
                "yColumns": null
              },
              "removedWidgets": [],
              "schema": [
                {
                  "metadata": "{}",
                  "name": "city",
                  "type": "\"string\""
                }
              ],
              "type": "table"
            }
          }
        },
        {
          "output_type": "display_data",
          "data": {
            "text/plain": [
              "Databricks visualization. Run in Databricks to view."
            ]
          },
          "metadata": {
            "application/vnd.databricks.v1.subcommand+json": {
              "baseErrorDetails": null,
              "bindings": {},
              "collapsed": false,
              "command": "%sql\nSELECT city from weather_data",
              "commandTitle": "Cities",
              "commandType": "auto",
              "commandVersion": 0,
              "commentThread": [],
              "commentsVisible": false,
              "contentSha256Hex": null,
              "customPlotOptions": {
                "redashChart": [
                  {
                    "key": "type",
                    "value": "CHOROPLETH"
                  },
                  {
                    "key": "options",
                    "value": {
                      "clusteringMode": "e",
                      "colors": {
                        "background": "#000000",
                        "borders": "#ffffff",
                        "max": "#002FB4",
                        "min": "#799CFF",
                        "noValue": "#dddddd"
                      },
                      "legend": {
                        "alignText": "right",
                        "position": "bottom-left",
                        "visible": true
                      },
                      "mapType": "countries",
                      "noValuePlaceholder": "N/A",
                      "popup": {
                        "enabled": true,
                        "template": "Region: <b>{{ @@name }}</b>\n<br>\nValue: <b>{{ @@value }}</b>"
                      },
                      "steps": 5,
                      "tooltip": {
                        "enabled": true,
                        "template": "<b>{{ @@name }}</b>: {{ @@value }}"
                      },
                      "valueFormat": "0,0.00"
                    }
                  }
                ]
              },
              "datasetPreviewNameToCmdIdMap": {},
              "diffDeletes": [],
              "diffInserts": [],
              "displayType": "redashChart",
              "error": null,
              "errorDetails": null,
              "errorSummary": null,
              "errorTraceType": null,
              "finishTime": 0,
              "globalVars": {},
              "guid": "",
              "height": "auto",
              "hideCommandCode": false,
              "hideCommandResult": false,
              "iPythonMetadata": null,
              "inputWidgets": {},
              "isLockedInExamMode": false,
              "latestUser": "a user",
              "latestUserId": null,
              "listResultMetadata": null,
              "metadata": {
                "byteLimit": 2048000,
                "implicitDf": true,
                "rowLimit": 10000
              },
              "nuid": "e40d7486-a478-4963-9e2a-7fae5cd9bfab",
              "origId": 0,
              "parentHierarchy": [],
              "pivotAggregation": null,
              "pivotColumns": null,
              "position": 9.1875,
              "resultDbfsErrorMessage": null,
              "resultDbfsStatus": "INLINED_IN_TREE",
              "results": null,
              "showCommandTitle": false,
              "startTime": 0,
              "state": "finished",
              "streamStates": {},
              "subcommandOptions": {},
              "submitTime": 0,
              "subtype": "tableResultSubCmd.visualization",
              "tableResultIndex": 0,
              "tableResultSettingsMap": {},
              "useConsistentColors": false,
              "version": "CommandV1",
              "width": "auto",
              "workflows": [],
              "xColumns": null,
              "yColumns": null
            }
          }
        }
      ],
      "source": [
        "%sql\n",
        "SELECT city from weather_data"
      ]
    },
    {
      "cell_type": "code",
      "execution_count": null,
      "metadata": {
        "application/vnd.databricks.v1+cell": {
          "cellMetadata": {
            "byteLimit": 2048000,
            "implicitDf": true,
            "rowLimit": 10000
          },
          "inputWidgets": {},
          "nuid": "0fc63205-86bd-4c89-b709-299aebbbfe82",
          "showTitle": false,
          "tableResultSettingsMap": {},
          "title": ""
        },
        "id": "kYCygcWt5VkE",
        "outputId": "3715d523-c817-4c6c-abb5-43bcbda7aabf"
      },
      "outputs": [
        {
          "output_type": "display_data",
          "data": {
            "text/html": [
              "<style scoped>\n",
              "  .table-result-container {\n",
              "    max-height: 300px;\n",
              "    overflow: auto;\n",
              "  }\n",
              "  table, th, td {\n",
              "    border: 1px solid black;\n",
              "    border-collapse: collapse;\n",
              "  }\n",
              "  th, td {\n",
              "    padding: 5px;\n",
              "  }\n",
              "  th {\n",
              "    text-align: left;\n",
              "  }\n",
              "</style><div class='table-result-container'><table class='table-result'><thead style='background-color: white'><tr><th>city</th><th>avg_temperature</th></tr></thead><tbody><tr><td>Punjab</td><td>307.94</td></tr><tr><td>Rajkot</td><td>306.66</td></tr><tr><td>Rajasthan</td><td>306.6</td></tr><tr><td>Haryana</td><td>306.4</td></tr><tr><td>Gujarat</td><td>305.61</td></tr><tr><td>West Bengal</td><td>304.17</td></tr><tr><td>Kerala</td><td>303.97</td></tr><tr><td>Mumbai</td><td>303.14</td></tr><tr><td>Jharkhand</td><td>302.15</td></tr><tr><td>Tamil Nadu</td><td>301.85</td></tr><tr><td>Chennai</td><td>301.51</td></tr><tr><td>Assam</td><td>301.5</td></tr><tr><td>Patna</td><td>301.11</td></tr><tr><td>Kolkata</td><td>300.12</td></tr><tr><td>Ahmedabad</td><td>299.17</td></tr><tr><td>Kochi</td><td>299.14</td></tr><tr><td>Agra</td><td>299.01</td></tr><tr><td>Trivandrum</td><td>298.64</td></tr><tr><td>Surat</td><td>298.14</td></tr><tr><td>Hyderabad</td><td>297.88</td></tr><tr><td>Jaipur</td><td>297.77</td></tr><tr><td>Pune</td><td>297.68</td></tr><tr><td>Kitturu</td><td>297.32</td></tr><tr><td>Nagpur</td><td>297.16</td></tr><tr><td>Kanpur</td><td>297.05</td></tr><tr><td>Bengaluru</td><td>295.88</td></tr><tr><td>Lucknow</td><td>294.14</td></tr></tbody></table></div>"
            ]
          },
          "metadata": {
            "application/vnd.databricks.v1+output": {
              "addedWidgets": {},
              "aggData": [],
              "aggError": "",
              "aggOverflow": false,
              "aggSchema": [],
              "aggSeriesLimitReached": false,
              "aggType": "",
              "arguments": {},
              "columnCustomDisplayInfos": {},
              "data": [
                [
                  "Punjab",
                  307.94
                ],
                [
                  "Rajkot",
                  306.66
                ],
                [
                  "Rajasthan",
                  306.6
                ],
                [
                  "Haryana",
                  306.4
                ],
                [
                  "Gujarat",
                  305.61
                ],
                [
                  "West Bengal",
                  304.17
                ],
                [
                  "Kerala",
                  303.97
                ],
                [
                  "Mumbai",
                  303.14
                ],
                [
                  "Jharkhand",
                  302.15
                ],
                [
                  "Tamil Nadu",
                  301.85
                ],
                [
                  "Chennai",
                  301.51
                ],
                [
                  "Assam",
                  301.5
                ],
                [
                  "Patna",
                  301.11
                ],
                [
                  "Kolkata",
                  300.12
                ],
                [
                  "Ahmedabad",
                  299.17
                ],
                [
                  "Kochi",
                  299.14
                ],
                [
                  "Agra",
                  299.01
                ],
                [
                  "Trivandrum",
                  298.64
                ],
                [
                  "Surat",
                  298.14
                ],
                [
                  "Hyderabad",
                  297.88
                ],
                [
                  "Jaipur",
                  297.77
                ],
                [
                  "Pune",
                  297.68
                ],
                [
                  "Kitturu",
                  297.32
                ],
                [
                  "Nagpur",
                  297.16
                ],
                [
                  "Kanpur",
                  297.05
                ],
                [
                  "Bengaluru",
                  295.88
                ],
                [
                  "Lucknow",
                  294.14
                ]
              ],
              "datasetInfos": [],
              "dbfsResultPath": null,
              "isJsonSchema": true,
              "metadata": {},
              "overflow": false,
              "plotOptions": {
                "customPlotOptions": {},
                "displayType": "table",
                "pivotAggregation": null,
                "pivotColumns": null,
                "xColumns": null,
                "yColumns": null
              },
              "removedWidgets": [],
              "schema": [
                {
                  "metadata": "{}",
                  "name": "city",
                  "type": "\"string\""
                },
                {
                  "metadata": "{}",
                  "name": "avg_temperature",
                  "type": "\"double\""
                }
              ],
              "type": "table"
            }
          }
        },
        {
          "output_type": "display_data",
          "data": {
            "text/plain": [
              "Databricks visualization. Run in Databricks to view."
            ]
          },
          "metadata": {
            "application/vnd.databricks.v1.subcommand+json": {
              "baseErrorDetails": null,
              "bindings": {},
              "collapsed": false,
              "command": "%sql WITH q AS (SELECT city, AVG(temperature) AS avg_temperature\nFROM weather_data\nGROUP BY city\nORDER BY avg_temperature DESC) SELECT `city`,SUM(`avg_temperature`) `column_491c13de24` FROM q GROUP BY `city`",
              "commandTitle": "City and Avg_temperature",
              "commandType": "auto",
              "commandVersion": 0,
              "commentThread": [],
              "commentsVisible": false,
              "contentSha256Hex": null,
              "customPlotOptions": {
                "redashChart": [
                  {
                    "key": "type",
                    "value": "CHART"
                  },
                  {
                    "key": "options",
                    "value": {
                      "alignYAxesAtZero": true,
                      "coefficient": 1,
                      "columnConfigurationMap": {
                        "x": {
                          "column": "city",
                          "id": "column_491c13de23"
                        },
                        "y": [
                          {
                            "column": "avg_temperature",
                            "id": "column_491c13de24",
                            "transform": "SUM"
                          }
                        ]
                      },
                      "dateTimeFormat": "DD/MM/YYYY HH:mm",
                      "direction": {
                        "type": "counterclockwise"
                      },
                      "error_y": {
                        "type": "data",
                        "visible": true
                      },
                      "globalSeriesType": "line",
                      "isAggregationOn": true,
                      "legend": {
                        "traceorder": "normal"
                      },
                      "missingValuesAsZero": true,
                      "numberFormat": "0,0.[00000]",
                      "percentFormat": "0[.]00%",
                      "series": {
                        "error_y": {
                          "type": "data",
                          "visible": true
                        },
                        "stacking": null
                      },
                      "seriesOptions": {
                        "avg_temperature": {
                          "name": "avg_temperature",
                          "type": "line",
                          "yAxis": 0
                        },
                        "column_491c13de24": {
                          "name": "avg_temperature",
                          "type": "line",
                          "yAxis": 1
                        }
                      },
                      "showDataLabels": false,
                      "sizemode": "diameter",
                      "sortX": true,
                      "sortY": true,
                      "swappedAxes": false,
                      "textFormat": "",
                      "useAggregationsUi": true,
                      "valuesOptions": {},
                      "version": 2,
                      "xAxis": {
                        "labels": {
                          "enabled": true
                        },
                        "type": "-"
                      },
                      "yAxis": [
                        {
                          "type": "-"
                        },
                        {
                          "opposite": true,
                          "type": "-"
                        }
                      ]
                    }
                  }
                ]
              },
              "datasetPreviewNameToCmdIdMap": {},
              "diffDeletes": [],
              "diffInserts": [],
              "displayType": "redashChart",
              "error": null,
              "errorDetails": null,
              "errorSummary": null,
              "errorTraceType": null,
              "finishTime": 0,
              "globalVars": {},
              "guid": "",
              "height": "auto",
              "hideCommandCode": false,
              "hideCommandResult": false,
              "iPythonMetadata": null,
              "inputWidgets": {},
              "isLockedInExamMode": false,
              "latestUser": "a user",
              "latestUserId": null,
              "listResultMetadata": null,
              "metadata": {
                "byteLimit": 2048000,
                "implicitDf": true,
                "rowLimit": 10000
              },
              "nuid": "a54e4330-2298-4141-a8dc-04c47d360cb0",
              "origId": 0,
              "parentHierarchy": [],
              "pivotAggregation": null,
              "pivotColumns": null,
              "position": 9.28125,
              "resultDbfsErrorMessage": null,
              "resultDbfsStatus": "INLINED_IN_TREE",
              "results": null,
              "showCommandTitle": false,
              "startTime": 0,
              "state": "finished",
              "streamStates": {},
              "subcommandOptions": {
                "queryPlan": {
                  "groups": [
                    {
                      "column": "city",
                      "type": "column"
                    }
                  ],
                  "selects": [
                    {
                      "column": "city",
                      "type": "column"
                    },
                    {
                      "alias": "column_491c13de24",
                      "args": [
                        {
                          "column": "avg_temperature",
                          "type": "column"
                        }
                      ],
                      "function": "SUM",
                      "type": "function"
                    }
                  ]
                }
              },
              "submitTime": 0,
              "subtype": "tableResultSubCmd.visualization",
              "tableResultIndex": 0,
              "tableResultSettingsMap": {},
              "useConsistentColors": false,
              "version": "CommandV1",
              "width": "auto",
              "workflows": [],
              "xColumns": null,
              "yColumns": null
            }
          }
        }
      ],
      "source": [
        "%sql\n",
        "SELECT city, AVG(temperature) AS avg_temperature\n",
        "FROM weather_data\n",
        "GROUP BY city\n",
        "ORDER BY avg_temperature DESC\n"
      ]
    },
    {
      "cell_type": "code",
      "execution_count": null,
      "metadata": {
        "application/vnd.databricks.v1+cell": {
          "cellMetadata": {
            "byteLimit": 2048000,
            "implicitDf": true,
            "rowLimit": 10000
          },
          "inputWidgets": {},
          "nuid": "a56fac66-de05-4732-86f6-f75f955a59e3",
          "showTitle": false,
          "tableResultSettingsMap": {},
          "title": ""
        },
        "id": "hVQlmjSB5VkF",
        "outputId": "81169da2-8678-4b95-8791-68767fef81d5"
      },
      "outputs": [
        {
          "output_type": "display_data",
          "data": {
            "text/html": [
              "<style scoped>\n",
              "  .table-result-container {\n",
              "    max-height: 300px;\n",
              "    overflow: auto;\n",
              "  }\n",
              "  table, th, td {\n",
              "    border: 1px solid black;\n",
              "    border-collapse: collapse;\n",
              "  }\n",
              "  th, td {\n",
              "    padding: 5px;\n",
              "  }\n",
              "  th {\n",
              "    text-align: left;\n",
              "  }\n",
              "</style><div class='table-result-container'><table class='table-result'><thead style='background-color: white'><tr><th>temperature</th></tr></thead><tbody><tr><td>295.88</td></tr><tr><td>301.85</td></tr><tr><td>301.86</td></tr><tr><td>297.32</td></tr><tr><td>304.29</td></tr><tr><td>304.56</td></tr><tr><td>304.29</td></tr><tr><td>304.56</td></tr><tr><td>299.14</td></tr><tr><td>304.56</td></tr><tr><td>304.56</td></tr><tr><td>304.56</td></tr><tr><td>304.29</td></tr><tr><td>303.97</td></tr><tr><td>302.15</td></tr><tr><td>306.6</td></tr><tr><td>297.68</td></tr><tr><td>306.4</td></tr><tr><td>305.61</td></tr><tr><td>306.66</td></tr><tr><td>307.94</td></tr><tr><td>297.05</td></tr><tr><td>298.14</td></tr><tr><td>299.17</td></tr><tr><td>298.14</td></tr><tr><td>300.14</td></tr><tr><td>301.5</td></tr><tr><td>298.14</td></tr><tr><td>297.88</td></tr><tr><td>299.01</td></tr><tr><td>297.16</td></tr><tr><td>301.51</td></tr><tr><td>300.12</td></tr><tr><td>294.14</td></tr><tr><td>297.77</td></tr><tr><td>303.14</td></tr><tr><td>298.14</td></tr><tr><td>301.11</td></tr></tbody></table></div>"
            ]
          },
          "metadata": {
            "application/vnd.databricks.v1+output": {
              "addedWidgets": {},
              "aggData": [],
              "aggError": "",
              "aggOverflow": false,
              "aggSchema": [],
              "aggSeriesLimitReached": false,
              "aggType": "",
              "arguments": {},
              "columnCustomDisplayInfos": {},
              "data": [
                [
                  295.88
                ],
                [
                  301.85
                ],
                [
                  301.86
                ],
                [
                  297.32
                ],
                [
                  304.29
                ],
                [
                  304.56
                ],
                [
                  304.29
                ],
                [
                  304.56
                ],
                [
                  299.14
                ],
                [
                  304.56
                ],
                [
                  304.56
                ],
                [
                  304.56
                ],
                [
                  304.29
                ],
                [
                  303.97
                ],
                [
                  302.15
                ],
                [
                  306.6
                ],
                [
                  297.68
                ],
                [
                  306.4
                ],
                [
                  305.61
                ],
                [
                  306.66
                ],
                [
                  307.94
                ],
                [
                  297.05
                ],
                [
                  298.14
                ],
                [
                  299.17
                ],
                [
                  298.14
                ],
                [
                  300.14
                ],
                [
                  301.5
                ],
                [
                  298.14
                ],
                [
                  297.88
                ],
                [
                  299.01
                ],
                [
                  297.16
                ],
                [
                  301.51
                ],
                [
                  300.12
                ],
                [
                  294.14
                ],
                [
                  297.77
                ],
                [
                  303.14
                ],
                [
                  298.14
                ],
                [
                  301.11
                ]
              ],
              "datasetInfos": [],
              "dbfsResultPath": null,
              "isJsonSchema": true,
              "metadata": {},
              "overflow": false,
              "plotOptions": {
                "customPlotOptions": {},
                "displayType": "table",
                "pivotAggregation": null,
                "pivotColumns": null,
                "xColumns": null,
                "yColumns": null
              },
              "removedWidgets": [],
              "schema": [
                {
                  "metadata": "{}",
                  "name": "temperature",
                  "type": "\"double\""
                }
              ],
              "type": "table"
            }
          }
        },
        {
          "output_type": "display_data",
          "data": {
            "text/plain": [
              "Databricks visualization. Run in Databricks to view."
            ]
          },
          "metadata": {
            "application/vnd.databricks.v1.subcommand+json": {
              "baseErrorDetails": null,
              "bindings": {},
              "collapsed": false,
              "command": "%sql WITH q AS (SELECT temperature\nFROM weather_data) ,min_max AS (SELECT `temperature`,(SELECT MAX(`temperature`) FROM q) `target_column_max`,(SELECT MIN(`temperature`) FROM q) `target_column_min` FROM q) ,histogram_meta AS (SELECT `temperature`,`target_column_min` `min_value`,IF(`target_column_max` = `target_column_min`,`target_column_max` + 1,`target_column_max`) `max_value`,(`target_column_max` - `target_column_min`) / 10 `step` FROM min_max) SELECT IF(ISNULL(`temperature`),NULL,LEAST(WIDTH_BUCKET(`temperature`,`min_value`,`max_value`,10),10)) `temperature_BIN`,FIRST(`min_value` + ((IF(ISNULL(`temperature`),NULL,LEAST(WIDTH_BUCKET(`temperature`,`min_value`,`max_value`,10),10)) - 1) * `step`)) `temperature_BIN_LOWER_BOUND`,FIRST(`step`) `temperature_BIN_STEP`,COUNT(`temperature`) `COUNT` FROM histogram_meta GROUP BY `temperature_BIN`",
              "commandTitle": "Temperature",
              "commandType": "auto",
              "commandVersion": 0,
              "commentThread": [],
              "commentsVisible": false,
              "contentSha256Hex": null,
              "customPlotOptions": {
                "redashChart": [
                  {
                    "key": "type",
                    "value": "CHART"
                  },
                  {
                    "key": "options",
                    "value": {
                      "alignYAxesAtZero": true,
                      "coefficient": 1,
                      "columnConfigurationMap": {
                        "x": {
                          "column": "temperature",
                          "id": "column_2a89631418"
                        }
                      },
                      "dateTimeFormat": "DD/MM/YYYY HH:mm",
                      "direction": {
                        "type": "counterclockwise"
                      },
                      "error_y": {
                        "type": "data",
                        "visible": true
                      },
                      "globalSeriesType": "histogram",
                      "hideXAxis": false,
                      "isAggregationOn": true,
                      "legend": {
                        "traceorder": "normal"
                      },
                      "missingValuesAsZero": true,
                      "numBins": 10,
                      "numberFormat": "0,0.[00000]",
                      "percentFormat": "0[.]00%",
                      "series": {
                        "error_y": {
                          "type": "data",
                          "visible": true
                        },
                        "stacking": null
                      },
                      "seriesOptions": {},
                      "showDataLabels": false,
                      "sizemode": "diameter",
                      "sortX": true,
                      "sortY": true,
                      "swappedAxes": false,
                      "textFormat": "",
                      "useAggregationsUi": true,
                      "valuesOptions": {},
                      "version": 2,
                      "xAxis": {
                        "labels": {
                          "enabled": true
                        },
                        "type": "-"
                      },
                      "yAxis": [
                        {
                          "type": "-"
                        },
                        {
                          "opposite": true,
                          "type": "-"
                        }
                      ]
                    }
                  }
                ]
              },
              "datasetPreviewNameToCmdIdMap": {},
              "diffDeletes": [],
              "diffInserts": [],
              "displayType": "redashChart",
              "error": null,
              "errorDetails": null,
              "errorSummary": null,
              "errorTraceType": null,
              "finishTime": 0,
              "globalVars": {},
              "guid": "",
              "height": "auto",
              "hideCommandCode": false,
              "hideCommandResult": false,
              "iPythonMetadata": null,
              "inputWidgets": {},
              "isLockedInExamMode": false,
              "latestUser": "a user",
              "latestUserId": null,
              "listResultMetadata": null,
              "metadata": {
                "byteLimit": 2048000,
                "implicitDf": true,
                "rowLimit": 10000
              },
              "nuid": "a18559bc-e0bc-4f2b-8fdf-391e864a5720",
              "origId": 0,
              "parentHierarchy": [],
              "pivotAggregation": null,
              "pivotColumns": null,
              "position": 9.375,
              "resultDbfsErrorMessage": null,
              "resultDbfsStatus": "INLINED_IN_TREE",
              "results": null,
              "showCommandTitle": false,
              "startTime": 0,
              "state": "finished",
              "streamStates": {},
              "subcommandOptions": {
                "queryPlan": {
                  "groups": [
                    {
                      "column": "temperature_BIN",
                      "type": "column"
                    }
                  ],
                  "selects": [
                    {
                      "alias": "temperature_BIN",
                      "args": [
                        {
                          "column": "temperature",
                          "type": "column"
                        },
                        {
                          "number": 10,
                          "type": "number"
                        }
                      ],
                      "function": "BIN",
                      "type": "function"
                    },
                    {
                      "alias": "temperature_BIN_LOWER_BOUND",
                      "args": [
                        {
                          "column": "temperature",
                          "type": "column"
                        },
                        {
                          "number": 10,
                          "type": "number"
                        }
                      ],
                      "function": "BIN_LOWER_BOUND",
                      "type": "function"
                    },
                    {
                      "alias": "temperature_BIN_STEP",
                      "args": [
                        {
                          "column": "temperature",
                          "type": "column"
                        },
                        {
                          "number": 10,
                          "type": "number"
                        }
                      ],
                      "function": "BIN_STEP",
                      "type": "function"
                    },
                    {
                      "alias": "COUNT",
                      "args": [
                        {
                          "column": "temperature",
                          "type": "column"
                        }
                      ],
                      "function": "COUNT",
                      "type": "function"
                    }
                  ]
                }
              },
              "submitTime": 0,
              "subtype": "tableResultSubCmd.visualization",
              "tableResultIndex": 0,
              "tableResultSettingsMap": {},
              "useConsistentColors": false,
              "version": "CommandV1",
              "width": "auto",
              "workflows": [],
              "xColumns": null,
              "yColumns": null
            }
          }
        }
      ],
      "source": [
        "%sql\n",
        "SELECT temperature\n",
        "FROM weather_data\n"
      ]
    },
    {
      "cell_type": "code",
      "execution_count": null,
      "metadata": {
        "application/vnd.databricks.v1+cell": {
          "cellMetadata": {
            "byteLimit": 2048000,
            "implicitDf": true,
            "rowLimit": 10000
          },
          "inputWidgets": {},
          "nuid": "43eb1f46-f691-4a68-aa75-d872aa946bce",
          "showTitle": false,
          "tableResultSettingsMap": {},
          "title": ""
        },
        "id": "lsKsseOw5VkF",
        "outputId": "a48de35d-8ca9-4a54-ebd3-ecfec0cb72fe"
      },
      "outputs": [
        {
          "output_type": "display_data",
          "data": {
            "text/html": [
              "<style scoped>\n",
              "  .table-result-container {\n",
              "    max-height: 300px;\n",
              "    overflow: auto;\n",
              "  }\n",
              "  table, th, td {\n",
              "    border: 1px solid black;\n",
              "    border-collapse: collapse;\n",
              "  }\n",
              "  th, td {\n",
              "    padding: 5px;\n",
              "  }\n",
              "  th {\n",
              "    text-align: left;\n",
              "  }\n",
              "</style><div class='table-result-container'><table class='table-result'><thead style='background-color: white'><tr><th>city</th><th>description</th><th>temperature</th><th>timestamp</th></tr></thead><tbody><tr><td>Agra</td><td>clear sky</td><td>299.01</td><td>2024-11-01T18:20:55.270+0000</td></tr><tr><td>Ahmedabad</td><td>smoke</td><td>299.17</td><td>2024-11-01T18:16:42.640+0000</td></tr><tr><td>Assam</td><td>clear sky</td><td>301.5</td><td>2024-11-03T08:57:52.185+0000</td></tr><tr><td>Bengaluru</td><td>scattered clouds</td><td>295.88</td><td>2024-11-01T18:16:23.582+0000</td></tr><tr><td>Chennai</td><td>mist</td><td>301.51</td><td>2024-11-01T18:17:55.142+0000</td></tr><tr><td>Gujarat</td><td>clear sky</td><td>305.61</td><td>2024-11-03T06:22:41.183+0000</td></tr><tr><td>Haryana</td><td>clear sky</td><td>306.4</td><td>2024-11-03T09:02:57.947+0000</td></tr><tr><td>Hyderabad</td><td>haze</td><td>297.88</td><td>2024-11-01T18:18:16.001+0000</td></tr><tr><td>Jaipur</td><td>haze</td><td>297.77</td><td>2024-11-01T18:18:45.137+0000</td></tr><tr><td>Jharkhand</td><td>clear sky</td><td>302.15</td><td>2024-11-03T08:24:19.350+0000</td></tr><tr><td>Kanpur</td><td>clear sky</td><td>297.05</td><td>2024-11-01T18:21:32.477+0000</td></tr><tr><td>Kerala</td><td>broken clouds</td><td>303.97</td><td>2024-11-03T09:07:03.749+0000</td></tr><tr><td>Kitturu</td><td>overcast clouds</td><td>297.32</td><td>2024-11-01T18:15:09.357+0000</td></tr><tr><td>Kochi</td><td>overcast clouds</td><td>299.14</td><td>2024-11-01T18:19:17.278+0000</td></tr><tr><td>Kolkata</td><td>haze</td><td>300.12</td><td>2024-11-01T18:22:21.588+0000</td></tr><tr><td>Lucknow</td><td>mist</td><td>294.14</td><td>2024-11-01T18:17:12.520+0000</td></tr><tr><td>Mumbai</td><td>haze</td><td>303.14</td><td>2024-11-01T18:17:35.232+0000</td></tr><tr><td>Nagpur</td><td>smoke</td><td>297.16</td><td>2024-11-01T18:19:47.266+0000</td></tr><tr><td>Patna</td><td>mist</td><td>301.11</td><td>2024-11-01T18:22:51.454+0000</td></tr><tr><td>Pune</td><td>broken clouds</td><td>297.68</td><td>2024-11-01T18:20:16.217+0000</td></tr><tr><td>Punjab</td><td>clear sky</td><td>307.94</td><td>2024-11-03T07:34:34.923+0000</td></tr><tr><td>Rajasthan</td><td>clear sky</td><td>306.6</td><td>2024-11-03T08:31:14.460+0000</td></tr><tr><td>Rajkot</td><td>clear sky</td><td>306.66</td><td>2024-11-03T06:35:46.597+0000</td></tr><tr><td>Surat</td><td>mist</td><td>298.14</td><td>2024-11-01T18:23:25.249+0000</td></tr><tr><td>Tamil Nadu</td><td>overcast clouds</td><td>301.85</td><td>2024-11-03T09:04:41.920+0000</td></tr><tr><td>Trivandrum</td><td>mist</td><td>298.14</td><td>2024-11-02T17:17:29.315+0000</td></tr><tr><td>Trivandrum</td><td>mist</td><td>298.14</td><td>2024-11-02T17:16:39.236+0000</td></tr><tr><td>Trivandrum</td><td>mist</td><td>298.14</td><td>2024-11-02T16:11:44.646+0000</td></tr><tr><td>Trivandrum</td><td>mist</td><td>300.14</td><td>2024-11-01T18:24:06.210+0000</td></tr><tr><td>West Bengal</td><td>broken clouds</td><td>301.86</td><td>2024-11-06T05:00:28.129+0000</td></tr><tr><td>West Bengal</td><td>clear sky</td><td>304.29</td><td>2024-11-03T10:23:16.958+0000</td></tr><tr><td>West Bengal</td><td>clear sky</td><td>304.29</td><td>2024-11-03T10:17:41.328+0000</td></tr><tr><td>West Bengal</td><td>clear sky</td><td>304.29</td><td>2024-11-03T10:07:40.044+0000</td></tr><tr><td>West Bengal</td><td>clear sky</td><td>304.56</td><td>2024-11-03T09:22:45.374+0000</td></tr><tr><td>West Bengal</td><td>clear sky</td><td>304.56</td><td>2024-11-03T09:17:09.573+0000</td></tr><tr><td>West Bengal</td><td>clear sky</td><td>304.56</td><td>2024-11-03T09:16:16.985+0000</td></tr><tr><td>West Bengal</td><td>clear sky</td><td>304.56</td><td>2024-11-03T09:15:01.048+0000</td></tr><tr><td>West Bengal</td><td>clear sky</td><td>304.56</td><td>2024-11-03T09:13:34.014+0000</td></tr></tbody></table></div>"
            ]
          },
          "metadata": {
            "application/vnd.databricks.v1+output": {
              "addedWidgets": {},
              "aggData": [],
              "aggError": "",
              "aggOverflow": false,
              "aggSchema": [],
              "aggSeriesLimitReached": false,
              "aggType": "",
              "arguments": {},
              "columnCustomDisplayInfos": {},
              "data": [
                [
                  "Agra",
                  "clear sky",
                  299.01,
                  "2024-11-01T18:20:55.270+0000"
                ],
                [
                  "Ahmedabad",
                  "smoke",
                  299.17,
                  "2024-11-01T18:16:42.640+0000"
                ],
                [
                  "Assam",
                  "clear sky",
                  301.5,
                  "2024-11-03T08:57:52.185+0000"
                ],
                [
                  "Bengaluru",
                  "scattered clouds",
                  295.88,
                  "2024-11-01T18:16:23.582+0000"
                ],
                [
                  "Chennai",
                  "mist",
                  301.51,
                  "2024-11-01T18:17:55.142+0000"
                ],
                [
                  "Gujarat",
                  "clear sky",
                  305.61,
                  "2024-11-03T06:22:41.183+0000"
                ],
                [
                  "Haryana",
                  "clear sky",
                  306.4,
                  "2024-11-03T09:02:57.947+0000"
                ],
                [
                  "Hyderabad",
                  "haze",
                  297.88,
                  "2024-11-01T18:18:16.001+0000"
                ],
                [
                  "Jaipur",
                  "haze",
                  297.77,
                  "2024-11-01T18:18:45.137+0000"
                ],
                [
                  "Jharkhand",
                  "clear sky",
                  302.15,
                  "2024-11-03T08:24:19.350+0000"
                ],
                [
                  "Kanpur",
                  "clear sky",
                  297.05,
                  "2024-11-01T18:21:32.477+0000"
                ],
                [
                  "Kerala",
                  "broken clouds",
                  303.97,
                  "2024-11-03T09:07:03.749+0000"
                ],
                [
                  "Kitturu",
                  "overcast clouds",
                  297.32,
                  "2024-11-01T18:15:09.357+0000"
                ],
                [
                  "Kochi",
                  "overcast clouds",
                  299.14,
                  "2024-11-01T18:19:17.278+0000"
                ],
                [
                  "Kolkata",
                  "haze",
                  300.12,
                  "2024-11-01T18:22:21.588+0000"
                ],
                [
                  "Lucknow",
                  "mist",
                  294.14,
                  "2024-11-01T18:17:12.520+0000"
                ],
                [
                  "Mumbai",
                  "haze",
                  303.14,
                  "2024-11-01T18:17:35.232+0000"
                ],
                [
                  "Nagpur",
                  "smoke",
                  297.16,
                  "2024-11-01T18:19:47.266+0000"
                ],
                [
                  "Patna",
                  "mist",
                  301.11,
                  "2024-11-01T18:22:51.454+0000"
                ],
                [
                  "Pune",
                  "broken clouds",
                  297.68,
                  "2024-11-01T18:20:16.217+0000"
                ],
                [
                  "Punjab",
                  "clear sky",
                  307.94,
                  "2024-11-03T07:34:34.923+0000"
                ],
                [
                  "Rajasthan",
                  "clear sky",
                  306.6,
                  "2024-11-03T08:31:14.460+0000"
                ],
                [
                  "Rajkot",
                  "clear sky",
                  306.66,
                  "2024-11-03T06:35:46.597+0000"
                ],
                [
                  "Surat",
                  "mist",
                  298.14,
                  "2024-11-01T18:23:25.249+0000"
                ],
                [
                  "Tamil Nadu",
                  "overcast clouds",
                  301.85,
                  "2024-11-03T09:04:41.920+0000"
                ],
                [
                  "Trivandrum",
                  "mist",
                  298.14,
                  "2024-11-02T17:17:29.315+0000"
                ],
                [
                  "Trivandrum",
                  "mist",
                  298.14,
                  "2024-11-02T17:16:39.236+0000"
                ],
                [
                  "Trivandrum",
                  "mist",
                  298.14,
                  "2024-11-02T16:11:44.646+0000"
                ],
                [
                  "Trivandrum",
                  "mist",
                  300.14,
                  "2024-11-01T18:24:06.210+0000"
                ],
                [
                  "West Bengal",
                  "broken clouds",
                  301.86,
                  "2024-11-06T05:00:28.129+0000"
                ],
                [
                  "West Bengal",
                  "clear sky",
                  304.29,
                  "2024-11-03T10:23:16.958+0000"
                ],
                [
                  "West Bengal",
                  "clear sky",
                  304.29,
                  "2024-11-03T10:17:41.328+0000"
                ],
                [
                  "West Bengal",
                  "clear sky",
                  304.29,
                  "2024-11-03T10:07:40.044+0000"
                ],
                [
                  "West Bengal",
                  "clear sky",
                  304.56,
                  "2024-11-03T09:22:45.374+0000"
                ],
                [
                  "West Bengal",
                  "clear sky",
                  304.56,
                  "2024-11-03T09:17:09.573+0000"
                ],
                [
                  "West Bengal",
                  "clear sky",
                  304.56,
                  "2024-11-03T09:16:16.985+0000"
                ],
                [
                  "West Bengal",
                  "clear sky",
                  304.56,
                  "2024-11-03T09:15:01.048+0000"
                ],
                [
                  "West Bengal",
                  "clear sky",
                  304.56,
                  "2024-11-03T09:13:34.014+0000"
                ]
              ],
              "datasetInfos": [],
              "dbfsResultPath": null,
              "isJsonSchema": true,
              "metadata": {},
              "overflow": false,
              "plotOptions": {
                "customPlotOptions": {},
                "displayType": "table",
                "pivotAggregation": null,
                "pivotColumns": null,
                "xColumns": null,
                "yColumns": null
              },
              "removedWidgets": [],
              "schema": [
                {
                  "metadata": "{}",
                  "name": "city",
                  "type": "\"string\""
                },
                {
                  "metadata": "{}",
                  "name": "description",
                  "type": "\"string\""
                },
                {
                  "metadata": "{}",
                  "name": "temperature",
                  "type": "\"double\""
                },
                {
                  "metadata": "{}",
                  "name": "timestamp",
                  "type": "\"timestamp\""
                }
              ],
              "type": "table"
            }
          }
        },
        {
          "output_type": "display_data",
          "data": {
            "text/plain": [
              "Databricks visualization. Run in Databricks to view."
            ]
          },
          "metadata": {
            "application/vnd.databricks.v1.subcommand+json": {
              "baseErrorDetails": null,
              "bindings": {},
              "collapsed": false,
              "command": "%sql\nSELECT city, description, temperature, timestamp\nFROM weather_data\nORDER BY city, timestamp DESC;\n",
              "commandTitle": "Detailed View",
              "commandType": "auto",
              "commandVersion": 0,
              "commentThread": [],
              "commentsVisible": false,
              "contentSha256Hex": null,
              "customPlotOptions": {
                "redashChart": [
                  {
                    "key": "type",
                    "value": "DETAILS"
                  },
                  {
                    "key": "options",
                    "value": {
                      "columns": [
                        {
                          "name": "city",
                          "title": "city",
                          "type": "string"
                        },
                        {
                          "name": "description",
                          "title": "description",
                          "type": "string"
                        },
                        {
                          "name": "temperature",
                          "title": "temperature",
                          "type": "float"
                        },
                        {
                          "name": "timestamp",
                          "title": "timestamp",
                          "type": "datetime"
                        }
                      ],
                      "version": 1
                    }
                  }
                ]
              },
              "datasetPreviewNameToCmdIdMap": {},
              "diffDeletes": [],
              "diffInserts": [],
              "displayType": "redashChart",
              "error": null,
              "errorDetails": null,
              "errorSummary": null,
              "errorTraceType": null,
              "finishTime": 0,
              "globalVars": {},
              "guid": "",
              "height": "auto",
              "hideCommandCode": false,
              "hideCommandResult": false,
              "iPythonMetadata": null,
              "inputWidgets": {},
              "isLockedInExamMode": false,
              "latestUser": "a user",
              "latestUserId": null,
              "listResultMetadata": null,
              "metadata": {
                "byteLimit": 2048000,
                "implicitDf": true,
                "rowLimit": 10000
              },
              "nuid": "e6aa1fb4-39cf-4ed3-a94d-7461b834fdcf",
              "origId": 0,
              "parentHierarchy": [],
              "pivotAggregation": null,
              "pivotColumns": null,
              "position": 9.46875,
              "resultDbfsErrorMessage": null,
              "resultDbfsStatus": "INLINED_IN_TREE",
              "results": null,
              "showCommandTitle": false,
              "startTime": 0,
              "state": "finished",
              "streamStates": {},
              "subcommandOptions": {},
              "submitTime": 0,
              "subtype": "tableResultSubCmd.visualization",
              "tableResultIndex": 0,
              "tableResultSettingsMap": {},
              "useConsistentColors": false,
              "version": "CommandV1",
              "width": "auto",
              "workflows": [],
              "xColumns": null,
              "yColumns": null
            }
          }
        }
      ],
      "source": [
        "%sql\n",
        "SELECT city, description, temperature, timestamp\n",
        "FROM weather_data\n",
        "ORDER BY city, timestamp DESC;\n"
      ]
    },
    {
      "cell_type": "markdown",
      "metadata": {
        "application/vnd.databricks.v1+cell": {
          "cellMetadata": {
            "byteLimit": 2048000,
            "rowLimit": 10000
          },
          "inputWidgets": {},
          "nuid": "e4ea4cf7-4817-4b42-8bc8-a68677ccf66b",
          "showTitle": false,
          "tableResultSettingsMap": {},
          "title": ""
        },
        "id": "jfFbEILC5VkG"
      },
      "source": [
        "##Monitor Data Pipeline"
      ]
    },
    {
      "cell_type": "code",
      "execution_count": null,
      "metadata": {
        "application/vnd.databricks.v1+cell": {
          "cellMetadata": {
            "byteLimit": 2048000,
            "rowLimit": 10000
          },
          "inputWidgets": {},
          "nuid": "16300807-fa51-45ca-aba3-fe82de927a69",
          "showTitle": false,
          "tableResultSettingsMap": {},
          "title": ""
        },
        "id": "0MFjVfrZ5VkG"
      },
      "outputs": [],
      "source": [
        "import logging\n",
        "logging.basicConfig(level=logging.INFO, format='%(asctime)s - %(levelname)s - %(message)s')"
      ]
    },
    {
      "cell_type": "code",
      "execution_count": null,
      "metadata": {
        "application/vnd.databricks.v1+cell": {
          "cellMetadata": {
            "byteLimit": 2048000,
            "rowLimit": 10000
          },
          "inputWidgets": {},
          "nuid": "ca3495e0-f8e7-4dc3-8ddf-e34f14824659",
          "showTitle": false,
          "tableResultSettingsMap": {},
          "title": ""
        },
        "id": "p8zc5NpN5VkG",
        "outputId": "ae20802f-1c7a-4e62-a0a0-0a1b70247ac1"
      },
      "outputs": [
        {
          "output_type": "stream",
          "name": "stderr",
          "text": [
            "2024-11-06 05:02:09,346 - INFO - Fetching Delta table record count...\n2024-11-06 05:02:10,566 - INFO - Current record count in Delta table: 38\n2024-11-06 05:02:10,567 - INFO - Fetching Delta table schema...\n2024-11-06 05:02:10,664 - INFO - Delta table schema: StructType([StructField('city', StringType(), True), StructField('description', StringType(), True), StructField('temperature', DoubleType(), True), StructField('timestamp', StringType(), True)])\n"
          ]
        }
      ],
      "source": [
        "def monitor_delta_table():\n",
        "    try:\n",
        "        # Track the current record count in Delta table\n",
        "        logging.info(\"Fetching Delta table record count...\")\n",
        "        record_count = spark.read.format(\"delta\").load(\"/mntt/delta/weather_data\").count()\n",
        "        logging.info(f\"Current record count in Delta table: {record_count}\")\n",
        "\n",
        "        # Track the schema of the Delta table\n",
        "        logging.info(\"Fetching Delta table schema...\")\n",
        "        schema = spark.read.format(\"delta\").load(\"/mntt/delta/weather_data\").schema\n",
        "        logging.info(f\"Delta table schema: {schema}\")\n",
        "\n",
        "    except Exception as e:\n",
        "        logging.error(f\"Error occurred while monitoring Delta table: {str(e)}\")\n",
        "\n",
        "# Run the monitor function\n",
        "monitor_delta_table()\n"
      ]
    },
    {
      "cell_type": "code",
      "execution_count": null,
      "metadata": {
        "application/vnd.databricks.v1+cell": {
          "cellMetadata": {
            "byteLimit": 2048000,
            "rowLimit": 10000
          },
          "inputWidgets": {},
          "nuid": "e39f8419-3da1-4e48-9231-b2d16507fcc0",
          "showTitle": false,
          "tableResultSettingsMap": {},
          "title": ""
        },
        "id": "fWwJI-_C5VkH",
        "outputId": "93a138c7-9f16-4a69-c0d2-62d2dba1e487"
      },
      "outputs": [
        {
          "output_type": "stream",
          "name": "stderr",
          "text": [
            "2024-11-06 05:02:11,416 - INFO - Record count: 38\n2024-11-06 05:02:11,550 - INFO - Schema: StructType([StructField('city', StringType(), True), StructField('description', StringType(), True), StructField('temperature', DoubleType(), True), StructField('timestamp', StringType(), True)])\n2024-11-06 05:02:11,551 - WARNING - Alert: Record count is below the expected threshold.\n"
          ]
        }
      ],
      "source": [
        "def monitor_delta_table_with_alerts():\n",
        "    try:\n",
        "        # Track record count\n",
        "        record_count = spark.read.format(\"delta\").load(\"/mntt/delta/weather_data\").count()\n",
        "        logging.info(f\"Record count: {record_count}\")\n",
        "\n",
        "        # Track schema\n",
        "        schema = spark.read.format(\"delta\").load(\"/mntt/delta/weather_data\").schema\n",
        "        logging.info(f\"Schema: {schema}\")\n",
        "\n",
        "        if record_count < 1000:\n",
        "            logging.warning(\"Alert: Record count is below the expected threshold.\")\n",
        "\n",
        "    except Exception as e:\n",
        "        logging.error(f\"Monitoring error: {str(e)}\")\n",
        "\n",
        "# Run monitoring with alerts\n",
        "monitor_delta_table_with_alerts()\n"
      ]
    },
    {
      "cell_type": "markdown",
      "metadata": {
        "application/vnd.databricks.v1+cell": {
          "cellMetadata": {
            "byteLimit": 2048000,
            "rowLimit": 10000
          },
          "inputWidgets": {},
          "nuid": "6fb80ce1-e121-4ebf-b00c-f2d678ab0538",
          "showTitle": false,
          "tableResultSettingsMap": {},
          "title": ""
        },
        "id": "CP8ygPKa5VkH"
      },
      "source": [
        "##Automate Data Collection"
      ]
    },
    {
      "cell_type": "code",
      "execution_count": null,
      "metadata": {
        "application/vnd.databricks.v1+cell": {
          "cellMetadata": {
            "byteLimit": 2048000,
            "rowLimit": 10000
          },
          "inputWidgets": {},
          "nuid": "1fdffced-987d-437a-a6a9-69bf2bbc143c",
          "showTitle": false,
          "tableResultSettingsMap": {},
          "title": ""
        },
        "id": "XfXVw05j5VkH",
        "outputId": "81c2b9a0-b8f3-4f85-9a3a-41608cb30781"
      },
      "outputs": [
        {
          "output_type": "stream",
          "name": "stdout",
          "text": [
            "Collecting schedule\r\n  Downloading schedule-1.2.2-py3-none-any.whl (12 kB)\r\nInstalling collected packages: schedule\r\nSuccessfully installed schedule-1.2.2\r\n\u001b[33mWARNING: You are using pip version 21.2.4; however, version 24.3.1 is available.\r\nYou should consider upgrading via the '/local_disk0/.ephemeral_nfs/envs/pythonEnv-3c8f7a14-36c7-4a50-8250-b5f6892f0362/bin/python -m pip install --upgrade pip' command.\u001b[0m\r\n"
          ]
        }
      ],
      "source": [
        "!pip install schedule"
      ]
    },
    {
      "cell_type": "code",
      "execution_count": null,
      "metadata": {
        "application/vnd.databricks.v1+cell": {
          "cellMetadata": {
            "byteLimit": 2048000,
            "rowLimit": 10000
          },
          "inputWidgets": {},
          "nuid": "bbf3d4d5-dc2e-4e96-9544-75095d2407c1",
          "showTitle": false,
          "tableResultSettingsMap": {},
          "title": ""
        },
        "id": "w3Xu1RBa5VkI"
      },
      "outputs": [],
      "source": [
        "import requests\n",
        "import schedule\n",
        "import time\n",
        "import datetime\n",
        "from pyspark.sql import SparkSession\n",
        "\n",
        "# Initialize Spark session\n",
        "spark = SparkSession.builder.getOrCreate()\n",
        "\n",
        "# Function to fetch weather data\n",
        "def collect_weather_data():\n",
        "    response = requests.get(URL)\n",
        "    if response.status_code == 200:\n",
        "        data = response.json()\n",
        "        weather_data = {\n",
        "            'city': data['name'],\n",
        "            'temperature': data['main']['temp'],\n",
        "            'description': data['weather'][0]['description'],\n",
        "            'timestamp': datetime.datetime.now().isoformat(),\n",
        "        }\n",
        "\n",
        "        # Convert weather data to DataFrame\n",
        "        weather_df = spark.createDataFrame([weather_data])\n",
        "\n",
        "        # Save the DataFrame to Delta Lake\n",
        "        weather_df.write.format(\"delta\").mode(\"append\").save(\"/mntt/delta/weather_data\")\n",
        "        print(\"Weather data collected and stored successfully.\")\n",
        "\n",
        "    else:\n",
        "        print(f\"Error: {response.status_code}\")\n",
        "\n",
        "# Schedule the job to run at regular intervals\n",
        "schedule.every().hour.do(collect_weather_data)\n",
        "\n",
        "# Keep the scheduler running\n",
        "while True:\n",
        "    schedule.run_pending()\n",
        "    time.sleep(1)\n"
      ]
    },
    {
      "cell_type": "markdown",
      "metadata": {
        "application/vnd.databricks.v1+cell": {
          "cellMetadata": {
            "byteLimit": 2048000,
            "rowLimit": 10000
          },
          "inputWidgets": {},
          "nuid": "883b7bc9-7624-400f-8e79-26c92f8fd7d9",
          "showTitle": false,
          "tableResultSettingsMap": {},
          "title": ""
        },
        "id": "J_AYl3zM5VkI"
      },
      "source": [
        "##Real-Time Weather Alerts"
      ]
    },
    {
      "cell_type": "code",
      "execution_count": null,
      "metadata": {
        "application/vnd.databricks.v1+cell": {
          "cellMetadata": {
            "byteLimit": 2048000,
            "rowLimit": 10000
          },
          "inputWidgets": {},
          "nuid": "ad5c1529-ac45-4348-a738-53c0cfb6db92",
          "showTitle": false,
          "tableResultSettingsMap": {},
          "title": ""
        },
        "id": "kmZu-ghN5VkJ"
      },
      "outputs": [],
      "source": [
        "# Function to check weather conditions and trigger alerts\n",
        "def check_weather_alerts(weather_data):\n",
        "    temp_threshold = 30\n",
        "    if weather_data['temperature'] - 273.15 > temp_threshold:\n",
        "        send_alert(f\"High temperature alert in {weather_data['city']}! Current temperature: {weather_data['temperature'] - 273.15:.2f}°C\")\n",
        "\n",
        "# Function to send alerts\n",
        "def send_alert(message):\n",
        "    print(\"ALERT:\", message)\n",
        "\n",
        "# Check weather alerts based on current data\n",
        "if weather_data:\n",
        "    check_weather_alerts(weather_data)"
      ]
    }
  ],
  "metadata": {
    "application/vnd.databricks.v1+notebook": {
      "dashboards": [
        {
          "elements": [
            {
              "dashboardResultIndex": null,
              "elementNUID": "a54e4330-2298-4141-a8dc-04c47d360cb0",
              "elementType": "command",
              "guid": "2fadbe32-981e-4f27-aec7-c2cfd7ff7286",
              "options": null,
              "position": {
                "height": 9,
                "width": 12,
                "x": 12,
                "y": 7,
                "z": null
              },
              "resultIndex": null
            },
            {
              "dashboardResultIndex": null,
              "elementNUID": "667d3568-09e9-415b-afd7-7b04c0b1985b",
              "elementType": "command",
              "guid": "4da211c5-2c72-44d8-a352-a6f00cf77ed1",
              "options": null,
              "position": {
                "height": 3,
                "width": 4,
                "x": 8,
                "y": 0,
                "z": null
              },
              "resultIndex": null
            },
            {
              "dashboardResultIndex": null,
              "elementNUID": "e40d7486-a478-4963-9e2a-7fae5cd9bfab",
              "elementType": "command",
              "guid": "7525e619-f0f6-4c1b-ac26-472c72ceaa63",
              "options": null,
              "position": {
                "height": 7,
                "width": 12,
                "x": 12,
                "y": 0,
                "z": null
              },
              "resultIndex": null
            },
            {
              "dashboardResultIndex": null,
              "elementNUID": "a18559bc-e0bc-4f2b-8fdf-391e864a5720",
              "elementType": "command",
              "guid": "8749904b-41cb-404f-9bf5-23adf4b02103",
              "options": null,
              "position": {
                "height": 6,
                "width": 12,
                "x": 0,
                "y": 3,
                "z": null
              },
              "resultIndex": null
            },
            {
              "dashboardResultIndex": null,
              "elementNUID": "e6aa1fb4-39cf-4ed3-a94d-7461b834fdcf",
              "elementType": "command",
              "guid": "ade40a96-3988-4e0e-b0ad-481d2a934dc9",
              "options": null,
              "position": {
                "height": 7,
                "width": 12,
                "x": 0,
                "y": 9,
                "z": null
              },
              "resultIndex": null
            },
            {
              "dashboardResultIndex": null,
              "elementNUID": "5ec80625-9b1d-49d4-87f5-27e24e577ae4",
              "elementType": "command",
              "guid": "b31375b9-9c9c-4c3a-bcdc-aa0631b835bb",
              "options": null,
              "position": {
                "height": 3,
                "width": 8,
                "x": 0,
                "y": 0,
                "z": null
              },
              "resultIndex": null
            }
          ],
          "globalVars": {},
          "guid": "",
          "layoutOption": {
            "grid": true,
            "stack": true
          },
          "nuid": "1f5dc42c-6093-4318-a503-f38cef788b2f",
          "origId": 564635714050606,
          "title": "Dashboard",
          "version": "DashboardViewV1",
          "width": 800
        }
      ],
      "environmentMetadata": null,
      "language": "python",
      "notebookMetadata": {
        "mostRecentlyExecutedCommandWithImplicitDF": {
          "commandId": 564635714050613,
          "dataframes": [
            "_sqldf"
          ]
        },
        "pythonIndentUnit": 4
      },
      "notebookName": "Data Engineering On weather Data Collection",
      "widgets": {}
    },
    "colab": {
      "provenance": []
    }
  },
  "nbformat": 4,
  "nbformat_minor": 0
}